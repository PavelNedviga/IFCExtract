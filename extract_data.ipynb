{
 "cells": [
  {
   "cell_type": "code",
   "execution_count": 3,
   "metadata": {
    "tags": []
   },
   "outputs": [],
   "source": [
    "# Раскомментить и установить расширение"
   ]
  },
  {
   "cell_type": "code",
   "execution_count": null,
   "metadata": {},
   "outputs": [],
   "source": [
    "# pip install ifcopenshell \n"
   ]
  },
  {
   "cell_type": "code",
   "execution_count": 1,
   "metadata": {},
   "outputs": [],
   "source": [
    "# pip install pandas"
   ]
  },
  {
   "cell_type": "code",
   "execution_count": 2,
   "metadata": {},
   "outputs": [
    {
     "name": "stderr",
     "output_type": "stream",
     "text": [
      "No stream support: No module named 'lark'\n",
      "/var/folders/rn/rl1dzql55sd8tt1fhxq5dlzm0000gn/T/ipykernel_25741/333723811.py:2: DeprecationWarning: \n",
      "Pyarrow will become a required dependency of pandas in the next major release of pandas (pandas 3.0),\n",
      "(to allow more performant data types, such as the Arrow string type, and better interoperability with other libraries)\n",
      "but was not found to be installed on your system.\n",
      "If this would cause problems for you,\n",
      "please provide us feedback at https://github.com/pandas-dev/pandas/issues/54466\n",
      "        \n",
      "  import pandas as pd\n"
     ]
    }
   ],
   "source": [
    "import ifcopenshell\n",
    "import pandas as pd"
   ]
  },
  {
   "cell_type": "code",
   "execution_count": 4,
   "metadata": {},
   "outputs": [],
   "source": [
    "def extract_ifc_properties_to_dataframe(ifc_path, object_type, properties_list):\n",
    "    # Загрузка IFC файла\n",
    "    file = ifcopenshell.open(ifc_path)\n",
    "    \n",
    "    # Получение всех объектов заданного типа\n",
    "    objects = file.by_type(object_type)\n",
    "    \n",
    "    # Подготовка данных для DataFrame\n",
    "    data = []\n",
    "\n",
    "    for obj in objects:\n",
    "        obj_data = {'GlobalId': obj.GlobalId}\n",
    "        for property_set in obj.IsDefinedBy:\n",
    "            if property_set.is_a('IfcRelDefinesByProperties'):\n",
    "                property_set_definition = property_set.RelatingPropertyDefinition\n",
    "                if property_set_definition.is_a('IfcPropertySet'):\n",
    "                    for (pset_name, prop_name) in properties_list:\n",
    "                        if property_set_definition.Name == pset_name:\n",
    "                            for property in property_set_definition.HasProperties:\n",
    "                                if property.Name == prop_name and property.is_a('IfcPropertySingleValue'):\n",
    "                                    # Добавляем значение свойства в данные объекта\n",
    "                                    obj_data[f'{pset_name}.{prop_name}'] = property.NominalValue.wrappedValue\n",
    "        data.append(obj_data)\n",
    "\n",
    "    # Создание DataFrame\n",
    "    df = pd.DataFrame(data)\n",
    "    df.set_index('GlobalId', inplace=True)\n",
    "    \n",
    "    return df\n"
   ]
  },
  {
   "cell_type": "code",
   "execution_count": 9,
   "metadata": {},
   "outputs": [
    {
     "data": {
      "text/html": [
       "<div>\n",
       "<style scoped>\n",
       "    .dataframe tbody tr th:only-of-type {\n",
       "        vertical-align: middle;\n",
       "    }\n",
       "\n",
       "    .dataframe tbody tr th {\n",
       "        vertical-align: top;\n",
       "    }\n",
       "\n",
       "    .dataframe thead th {\n",
       "        text-align: right;\n",
       "    }\n",
       "</style>\n",
       "<table border=\"1\" class=\"dataframe\">\n",
       "  <thead>\n",
       "    <tr style=\"text-align: right;\">\n",
       "      <th></th>\n",
       "      <th>Tekla Quantity.Weight</th>\n",
       "    </tr>\n",
       "    <tr>\n",
       "      <th>GlobalId</th>\n",
       "      <th></th>\n",
       "    </tr>\n",
       "  </thead>\n",
       "  <tbody>\n",
       "    <tr>\n",
       "      <th>0cryUIbA55I9w6zXlNGfwV</th>\n",
       "      <td>420.60</td>\n",
       "    </tr>\n",
       "    <tr>\n",
       "      <th>0JG_ZbA9T1Q8XB5M4qoezx</th>\n",
       "      <td>38.02</td>\n",
       "    </tr>\n",
       "    <tr>\n",
       "      <th>2RTzw4jbf0FQmMYmColiZh</th>\n",
       "      <td>19.57</td>\n",
       "    </tr>\n",
       "    <tr>\n",
       "      <th>0D$inzAnnDXvy7fR5jDtv5</th>\n",
       "      <td>12.96</td>\n",
       "    </tr>\n",
       "    <tr>\n",
       "      <th>3_Vu0EUSLDoBPiwg2fsVcI</th>\n",
       "      <td>21.31</td>\n",
       "    </tr>\n",
       "    <tr>\n",
       "      <th>...</th>\n",
       "      <td>...</td>\n",
       "    </tr>\n",
       "    <tr>\n",
       "      <th>2JPJHsQLT1zOPsMqvJDdo9</th>\n",
       "      <td>70.76</td>\n",
       "    </tr>\n",
       "    <tr>\n",
       "      <th>3NKQ$V9k1F3gAKixq4dbqM</th>\n",
       "      <td>547.02</td>\n",
       "    </tr>\n",
       "    <tr>\n",
       "      <th>131ujOmhvA8QUlDsviILBl</th>\n",
       "      <td>63.91</td>\n",
       "    </tr>\n",
       "    <tr>\n",
       "      <th>0THF4q8J508geO2aLAeSJc</th>\n",
       "      <td>63.91</td>\n",
       "    </tr>\n",
       "    <tr>\n",
       "      <th>3rinRmCqf7VRN4iPsC3Vax</th>\n",
       "      <td>547.02</td>\n",
       "    </tr>\n",
       "  </tbody>\n",
       "</table>\n",
       "<p>2770 rows × 1 columns</p>\n",
       "</div>"
      ],
      "text/plain": [
       "                        Tekla Quantity.Weight\n",
       "GlobalId                                     \n",
       "0cryUIbA55I9w6zXlNGfwV                 420.60\n",
       "0JG_ZbA9T1Q8XB5M4qoezx                  38.02\n",
       "2RTzw4jbf0FQmMYmColiZh                  19.57\n",
       "0D$inzAnnDXvy7fR5jDtv5                  12.96\n",
       "3_Vu0EUSLDoBPiwg2fsVcI                  21.31\n",
       "...                                       ...\n",
       "2JPJHsQLT1zOPsMqvJDdo9                  70.76\n",
       "3NKQ$V9k1F3gAKixq4dbqM                 547.02\n",
       "131ujOmhvA8QUlDsviILBl                  63.91\n",
       "0THF4q8J508geO2aLAeSJc                  63.91\n",
       "3rinRmCqf7VRN4iPsC3Vax                 547.02\n",
       "\n",
       "[2770 rows x 1 columns]"
      ]
     },
     "execution_count": 9,
     "metadata": {},
     "output_type": "execute_result"
    }
   ],
   "source": [
    "\n",
    "# Пример использования функции\n",
    "ifc_path = '12002-81-020601-КМ3.1.3.ifc'\n",
    "object_type = 'IfcElement'\n",
    "properties_list = [\n",
    "    ('Tekla Quantity', 'Weight'),\n",
    "    ('Pset_WallCommon', 'Height')\n",
    "]\n",
    "\n",
    "df = extract_ifc_properties_to_dataframe(ifc_path, object_type, properties_list)\n",
    "df\n"
   ]
  },
  {
   "cell_type": "code",
   "execution_count": null,
   "metadata": {},
   "outputs": [],
   "source": []
  }
 ],
 "metadata": {
  "kernelspec": {
   "display_name": ".venv",
   "language": "python",
   "name": "python3"
  },
  "language_info": {
   "codemirror_mode": {
    "name": "ipython",
    "version": 3
   },
   "file_extension": ".py",
   "mimetype": "text/x-python",
   "name": "python",
   "nbconvert_exporter": "python",
   "pygments_lexer": "ipython3",
   "version": "3.12.0"
  }
 },
 "nbformat": 4,
 "nbformat_minor": 2
}

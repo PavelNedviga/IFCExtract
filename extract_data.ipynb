{
 "cells": [
  {
   "cell_type": "markdown",
   "metadata": {},
   "source": [
    "### Раскомментить и установить расширение"
   ]
  },
  {
   "cell_type": "code",
   "execution_count": 12,
   "metadata": {},
   "outputs": [
    {
     "name": "stdout",
     "output_type": "stream",
     "text": [
      "Collecting ifcopenshell\n",
      "  Using cached ifcopenshell-0.7.0.231018-py311-none-macosx_11_0_arm64.whl.metadata (8.8 kB)\n",
      "Using cached ifcopenshell-0.7.0.231018-py311-none-macosx_11_0_arm64.whl (48.9 MB)\n",
      "Installing collected packages: ifcopenshell\n",
      "Successfully installed ifcopenshell-0.7.0.231018\n",
      "Note: you may need to restart the kernel to use updated packages.\n"
     ]
    }
   ],
   "source": [
    "# pip install ifcopenshell \n"
   ]
  },
  {
   "cell_type": "code",
   "execution_count": 13,
   "metadata": {},
   "outputs": [
    {
     "name": "stdout",
     "output_type": "stream",
     "text": [
      "Collecting Pillow\n",
      "  Using cached pillow-10.2.0-cp312-cp312-macosx_11_0_arm64.whl.metadata (9.7 kB)\n",
      "Using cached pillow-10.2.0-cp312-cp312-macosx_11_0_arm64.whl (3.3 MB)\n",
      "Installing collected packages: Pillow\n",
      "Successfully installed Pillow-10.2.0\n",
      "Note: you may need to restart the kernel to use updated packages.\n"
     ]
    }
   ],
   "source": [
    "# pip install Pillow"
   ]
  },
  {
   "cell_type": "code",
   "execution_count": 14,
   "metadata": {},
   "outputs": [
    {
     "name": "stdout",
     "output_type": "stream",
     "text": [
      "Collecting pandas\n",
      "  Using cached pandas-2.2.0-cp312-cp312-macosx_11_0_arm64.whl.metadata (19 kB)\n",
      "Collecting numpy<2,>=1.26.0 (from pandas)\n",
      "  Using cached numpy-1.26.4-cp312-cp312-macosx_11_0_arm64.whl.metadata (61 kB)\n",
      "Collecting python-dateutil>=2.8.2 (from pandas)\n",
      "  Using cached python_dateutil-2.8.2-py2.py3-none-any.whl (247 kB)\n",
      "Collecting pytz>=2020.1 (from pandas)\n",
      "  Using cached pytz-2024.1-py2.py3-none-any.whl.metadata (22 kB)\n",
      "Collecting tzdata>=2022.7 (from pandas)\n",
      "  Using cached tzdata-2024.1-py2.py3-none-any.whl.metadata (1.4 kB)\n",
      "Collecting six>=1.5 (from python-dateutil>=2.8.2->pandas)\n",
      "  Using cached six-1.16.0-py2.py3-none-any.whl (11 kB)\n",
      "Using cached pandas-2.2.0-cp312-cp312-macosx_11_0_arm64.whl (11.7 MB)\n",
      "Using cached numpy-1.26.4-cp312-cp312-macosx_11_0_arm64.whl (13.7 MB)\n",
      "Using cached pytz-2024.1-py2.py3-none-any.whl (505 kB)\n",
      "Using cached tzdata-2024.1-py2.py3-none-any.whl (345 kB)\n",
      "Installing collected packages: pytz, tzdata, six, numpy, python-dateutil, pandas\n",
      "Successfully installed numpy-1.26.4 pandas-2.2.0 python-dateutil-2.8.2 pytz-2024.1 six-1.16.0 tzdata-2024.1\n",
      "Note: you may need to restart the kernel to use updated packages.\n"
     ]
    }
   ],
   "source": [
    "# pip install pandas"
   ]
  },
  {
   "cell_type": "code",
   "execution_count": 1,
   "metadata": {},
   "outputs": [
    {
     "name": "stderr",
     "output_type": "stream",
     "text": [
      "No stream support: No module named 'lark'\n",
      "/var/folders/rn/rl1dzql55sd8tt1fhxq5dlzm0000gn/T/ipykernel_13264/333723811.py:2: DeprecationWarning: \n",
      "Pyarrow will become a required dependency of pandas in the next major release of pandas (pandas 3.0),\n",
      "(to allow more performant data types, such as the Arrow string type, and better interoperability with other libraries)\n",
      "but was not found to be installed on your system.\n",
      "If this would cause problems for you,\n",
      "please provide us feedback at https://github.com/pandas-dev/pandas/issues/54466\n",
      "        \n",
      "  import pandas as pd\n"
     ]
    }
   ],
   "source": [
    "import ifcopenshell\n",
    "import pandas as pd"
   ]
  },
  {
   "cell_type": "code",
   "execution_count": 24,
   "metadata": {},
   "outputs": [],
   "source": [
    "def extract_ifc_properties_to_dataframe(ifc_path, object_type, properties_list):\n",
    "    # Загрузка IFC файла\n",
    "    file = ifcopenshell.open(ifc_path)\n",
    "    \n",
    "    # Получение всех объектов заданного типа\n",
    "    objects = file.by_type(object_type)\n",
    "    \n",
    "    # Подготовка данных для DataFrame (pandas)\n",
    "    data = []\n",
    "\n",
    "    for obj in objects:\n",
    "        obj_data = {'GlobalId': obj.GlobalId, 'obj_type': obj.get_info()['type']}\n",
    "        for property_set in obj.IsDefinedBy:\n",
    "            if property_set.is_a('IfcRelDefinesByProperties'):\n",
    "                property_set_definition = property_set.RelatingPropertyDefinition\n",
    "                if property_set_definition.is_a('IfcPropertySet'):\n",
    "                    for (pset_name, prop_name) in properties_list:\n",
    "                        if property_set_definition.Name == pset_name:\n",
    "                            for property in property_set_definition.HasProperties:\n",
    "                                if property.Name == prop_name and property.is_a('IfcPropertySingleValue'):\n",
    "                                    # Добавляем значение свойства в данные объекта\n",
    "                                    if property.NominalValue != None:\n",
    "                                        obj_data[f'{pset_name}.{prop_name}'] = property.NominalValue.wrappedValue\n",
    "        data.append(obj_data)\n",
    "\n",
    "    # Создание DataFrame\n",
    "    df = pd.DataFrame(data)\n",
    "    df.set_index('GlobalId', inplace=True)\n",
    "    \n",
    "    return df\n"
   ]
  },
  {
   "cell_type": "code",
   "execution_count": 25,
   "metadata": {},
   "outputs": [
    {
     "data": {
      "text/html": [
       "<div>\n",
       "<style scoped>\n",
       "    .dataframe tbody tr th:only-of-type {\n",
       "        vertical-align: middle;\n",
       "    }\n",
       "\n",
       "    .dataframe tbody tr th {\n",
       "        vertical-align: top;\n",
       "    }\n",
       "\n",
       "    .dataframe thead th {\n",
       "        text-align: right;\n",
       "    }\n",
       "</style>\n",
       "<table border=\"1\" class=\"dataframe\">\n",
       "  <thead>\n",
       "    <tr style=\"text-align: right;\">\n",
       "      <th></th>\n",
       "      <th>obj_type</th>\n",
       "      <th>Маркировка.Сечение в каталоге Tekla</th>\n",
       "      <th>Tekla Quantity.Weight</th>\n",
       "      <th>Идентификация.Категория ТСС</th>\n",
       "    </tr>\n",
       "    <tr>\n",
       "      <th>GlobalId</th>\n",
       "      <th></th>\n",
       "      <th></th>\n",
       "      <th></th>\n",
       "      <th></th>\n",
       "    </tr>\n",
       "  </thead>\n",
       "  <tbody>\n",
       "    <tr>\n",
       "      <th>0cryUIbA55I9w6zXlNGfwV</th>\n",
       "      <td>IfcBeam</td>\n",
       "      <td>U16P_8240_97</td>\n",
       "      <td>420.60</td>\n",
       "      <td>NaN</td>\n",
       "    </tr>\n",
       "    <tr>\n",
       "      <th>0JG_ZbA9T1Q8XB5M4qoezx</th>\n",
       "      <td>IfcBeam</td>\n",
       "      <td>U16P_8240_97</td>\n",
       "      <td>38.02</td>\n",
       "      <td>NaN</td>\n",
       "    </tr>\n",
       "    <tr>\n",
       "      <th>2RTzw4jbf0FQmMYmColiZh</th>\n",
       "      <td>IfcMember</td>\n",
       "      <td>PK80X5.0_32931_2015</td>\n",
       "      <td>19.57</td>\n",
       "      <td>NaN</td>\n",
       "    </tr>\n",
       "    <tr>\n",
       "      <th>0D$inzAnnDXvy7fR5jDtv5</th>\n",
       "      <td>IfcBeam</td>\n",
       "      <td>PK80X5.0_32931_2015</td>\n",
       "      <td>12.96</td>\n",
       "      <td>NaN</td>\n",
       "    </tr>\n",
       "    <tr>\n",
       "      <th>3_Vu0EUSLDoBPiwg2fsVcI</th>\n",
       "      <td>IfcMember</td>\n",
       "      <td>PK80X5.0_32931_2015</td>\n",
       "      <td>21.31</td>\n",
       "      <td>NaN</td>\n",
       "    </tr>\n",
       "    <tr>\n",
       "      <th>...</th>\n",
       "      <td>...</td>\n",
       "      <td>...</td>\n",
       "      <td>...</td>\n",
       "      <td>...</td>\n",
       "    </tr>\n",
       "    <tr>\n",
       "      <th>2JPJHsQLT1zOPsMqvJDdo9</th>\n",
       "      <td>IfcBeam</td>\n",
       "      <td>U16P_8240_97</td>\n",
       "      <td>70.76</td>\n",
       "      <td>Лестницы</td>\n",
       "    </tr>\n",
       "    <tr>\n",
       "      <th>3NKQ$V9k1F3gAKixq4dbqM</th>\n",
       "      <td>IfcBeam</td>\n",
       "      <td>I30H2_57837_2017</td>\n",
       "      <td>547.02</td>\n",
       "      <td>Балки</td>\n",
       "    </tr>\n",
       "    <tr>\n",
       "      <th>131ujOmhvA8QUlDsviILBl</th>\n",
       "      <td>IfcBeam</td>\n",
       "      <td>U20P_8240_97</td>\n",
       "      <td>63.91</td>\n",
       "      <td>Балки</td>\n",
       "    </tr>\n",
       "    <tr>\n",
       "      <th>0THF4q8J508geO2aLAeSJc</th>\n",
       "      <td>IfcBeam</td>\n",
       "      <td>U20P_8240_97</td>\n",
       "      <td>63.91</td>\n",
       "      <td>Балки</td>\n",
       "    </tr>\n",
       "    <tr>\n",
       "      <th>3rinRmCqf7VRN4iPsC3Vax</th>\n",
       "      <td>IfcBeam</td>\n",
       "      <td>I30H2_57837_2017</td>\n",
       "      <td>547.02</td>\n",
       "      <td>Балки</td>\n",
       "    </tr>\n",
       "  </tbody>\n",
       "</table>\n",
       "<p>2770 rows × 4 columns</p>\n",
       "</div>"
      ],
      "text/plain": [
       "                         obj_type Маркировка.Сечение в каталоге Tekla  \\\n",
       "GlobalId                                                                \n",
       "0cryUIbA55I9w6zXlNGfwV    IfcBeam                        U16P_8240_97   \n",
       "0JG_ZbA9T1Q8XB5M4qoezx    IfcBeam                        U16P_8240_97   \n",
       "2RTzw4jbf0FQmMYmColiZh  IfcMember                 PK80X5.0_32931_2015   \n",
       "0D$inzAnnDXvy7fR5jDtv5    IfcBeam                 PK80X5.0_32931_2015   \n",
       "3_Vu0EUSLDoBPiwg2fsVcI  IfcMember                 PK80X5.0_32931_2015   \n",
       "...                           ...                                 ...   \n",
       "2JPJHsQLT1zOPsMqvJDdo9    IfcBeam                        U16P_8240_97   \n",
       "3NKQ$V9k1F3gAKixq4dbqM    IfcBeam                    I30H2_57837_2017   \n",
       "131ujOmhvA8QUlDsviILBl    IfcBeam                        U20P_8240_97   \n",
       "0THF4q8J508geO2aLAeSJc    IfcBeam                        U20P_8240_97   \n",
       "3rinRmCqf7VRN4iPsC3Vax    IfcBeam                    I30H2_57837_2017   \n",
       "\n",
       "                        Tekla Quantity.Weight Идентификация.Категория ТСС  \n",
       "GlobalId                                                                   \n",
       "0cryUIbA55I9w6zXlNGfwV                 420.60                         NaN  \n",
       "0JG_ZbA9T1Q8XB5M4qoezx                  38.02                         NaN  \n",
       "2RTzw4jbf0FQmMYmColiZh                  19.57                         NaN  \n",
       "0D$inzAnnDXvy7fR5jDtv5                  12.96                         NaN  \n",
       "3_Vu0EUSLDoBPiwg2fsVcI                  21.31                         NaN  \n",
       "...                                       ...                         ...  \n",
       "2JPJHsQLT1zOPsMqvJDdo9                  70.76                    Лестницы  \n",
       "3NKQ$V9k1F3gAKixq4dbqM                 547.02                       Балки  \n",
       "131ujOmhvA8QUlDsviILBl                  63.91                       Балки  \n",
       "0THF4q8J508geO2aLAeSJc                  63.91                       Балки  \n",
       "3rinRmCqf7VRN4iPsC3Vax                 547.02                       Балки  \n",
       "\n",
       "[2770 rows x 4 columns]"
      ]
     },
     "execution_count": 25,
     "metadata": {},
     "output_type": "execute_result"
    }
   ],
   "source": [
    "\n",
    "# Пример использования функции\n",
    "ifc_path = '12002-81-020601-КМ3.1.3.ifc'\n",
    "object_type = 'IfcElement'\n",
    "properties_list = [\n",
    "    ('Tekla Quantity', 'Weight'),\n",
    "    ('Идентификация', \"Категория ТСС\"),\n",
    "    ('Маркировка', 'Сечение в каталоге Tekla')\n",
    "]\n",
    "\n",
    "df = extract_ifc_properties_to_dataframe(ifc_path, object_type, properties_list)\n",
    "df\n"
   ]
  },
  {
   "cell_type": "code",
   "execution_count": 27,
   "metadata": {},
   "outputs": [
    {
     "data": {
      "text/html": [
       "<div>\n",
       "<style scoped>\n",
       "    .dataframe tbody tr th:only-of-type {\n",
       "        vertical-align: middle;\n",
       "    }\n",
       "\n",
       "    .dataframe tbody tr th {\n",
       "        vertical-align: top;\n",
       "    }\n",
       "\n",
       "    .dataframe thead th {\n",
       "        text-align: right;\n",
       "    }\n",
       "</style>\n",
       "<table border=\"1\" class=\"dataframe\">\n",
       "  <thead>\n",
       "    <tr style=\"text-align: right;\">\n",
       "      <th></th>\n",
       "      <th>Tekla Quantity.Weight</th>\n",
       "    </tr>\n",
       "  </thead>\n",
       "  <tbody>\n",
       "    <tr>\n",
       "      <th>count</th>\n",
       "      <td>2054.000000</td>\n",
       "    </tr>\n",
       "    <tr>\n",
       "      <th>mean</th>\n",
       "      <td>42.984031</td>\n",
       "    </tr>\n",
       "    <tr>\n",
       "      <th>std</th>\n",
       "      <td>175.127039</td>\n",
       "    </tr>\n",
       "    <tr>\n",
       "      <th>min</th>\n",
       "      <td>0.000000</td>\n",
       "    </tr>\n",
       "    <tr>\n",
       "      <th>25%</th>\n",
       "      <td>1.000000</td>\n",
       "    </tr>\n",
       "    <tr>\n",
       "      <th>50%</th>\n",
       "      <td>11.280000</td>\n",
       "    </tr>\n",
       "    <tr>\n",
       "      <th>75%</th>\n",
       "      <td>23.030000</td>\n",
       "    </tr>\n",
       "    <tr>\n",
       "      <th>max</th>\n",
       "      <td>3200.000000</td>\n",
       "    </tr>\n",
       "  </tbody>\n",
       "</table>\n",
       "</div>"
      ],
      "text/plain": [
       "       Tekla Quantity.Weight\n",
       "count            2054.000000\n",
       "mean               42.984031\n",
       "std               175.127039\n",
       "min                 0.000000\n",
       "25%                 1.000000\n",
       "50%                11.280000\n",
       "75%                23.030000\n",
       "max              3200.000000"
      ]
     },
     "execution_count": 27,
     "metadata": {},
     "output_type": "execute_result"
    }
   ],
   "source": [
    "df.describe()"
   ]
  },
  {
   "cell_type": "code",
   "execution_count": 26,
   "metadata": {},
   "outputs": [],
   "source": [
    "df.to_csv('ifc_extracted_data.csv')"
   ]
  },
  {
   "cell_type": "code",
   "execution_count": null,
   "metadata": {},
   "outputs": [],
   "source": []
  }
 ],
 "metadata": {
  "kernelspec": {
   "display_name": ".venv",
   "language": "python",
   "name": "python3"
  },
  "language_info": {
   "codemirror_mode": {
    "name": "ipython",
    "version": 3
   },
   "file_extension": ".py",
   "mimetype": "text/x-python",
   "name": "python",
   "nbconvert_exporter": "python",
   "pygments_lexer": "ipython3",
   "version": "3.12.0"
  }
 },
 "nbformat": 4,
 "nbformat_minor": 2
}
